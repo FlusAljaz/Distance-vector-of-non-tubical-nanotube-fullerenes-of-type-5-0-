{
 "cells": [
  {
   "cell_type": "code",
   "execution_count": 7,
   "metadata": {},
   "outputs": [],
   "source": [
    "import networkx as nx\n",
    "import matplotlib.pyplot as plt\n",
    "%matplotlib inline \n",
    "# Za prikaz grafov neposredno v Jupyter Notebook"
   ]
  },
  {
   "cell_type": "markdown",
   "metadata": {},
   "source": [
    "1. KONSTRUKCIJA GRAFA"
   ]
  },
  {
   "cell_type": "markdown",
   "metadata": {},
   "source": [
    "Generiranje grafa"
   ]
  },
  {
   "cell_type": "code",
   "execution_count": 19,
   "metadata": {},
   "outputs": [],
   "source": [
    "#generiranje grafa\n",
    "def generate_5_0_graph(k):\n",
    "    \"\"\"\n",
    "    Ustvari graf tipa (5,0) s k-orbitami.\n",
    "    Vsaka orbita vsebuje 10 oglišč, graf pa vključuje cilindrični del in petkotne zaključke.\n",
    "    \"\"\"\n",
    "    G = nx.Graph()  # Ustvari prazen graf\n",
    "    n = 10 * k  # Skupno število oglišč\n",
    "\n",
    "    # Dodaj vsa oglišča\n",
    "    for i in range(n):\n",
    "        G.add_node(i)\n",
    "\n",
    "    # Dodaj povezave za cilindrični del\n",
    "    for orbit in range(k):\n",
    "        base = orbit * 10\n",
    "        for i in range(10):\n",
    "            # Poveži oglišča v obroču (šestkotna struktura)\n",
    "            G.add_edge(base + i, base + (i + 1) % 10)\n",
    "\n",
    "            # Poveži z naslednjo orbito\n",
    "            if orbit < k - 1:\n",
    "                G.add_edge(base + i, base + 10 + (i + 1) % 10)\n",
    "\n",
    "    # Dodaj petkotne zaključke\n",
    "    # Prvih 5 oglišč prve orbite poveži v petkotnik\n",
    "    for i in range(5):\n",
    "        G.add_edge(i, (i + 1) % 5)\n",
    "\n",
    "    # Zadnjih 5 oglišč zadnje orbite poveži v petkotnik\n",
    "    for i in range(5):\n",
    "        G.add_edge(n - 5 + i, n - 5 + (i + 1) % 5)\n",
    "\n",
    "    return G"
   ]
  },
  {
   "cell_type": "markdown",
   "metadata": {},
   "source": [
    "Risanje grafa"
   ]
  },
  {
   "cell_type": "code",
   "execution_count": 20,
   "metadata": {},
   "outputs": [],
   "source": [
    "#Risanje grafa\n",
    "def plot_graph(G, title=\"Graf\"):\n",
    "    \"\"\"\n",
    "    Nariši graf z uporabo matplotlib in knjižnice networkx.\n",
    "    \"\"\"\n",
    "    pos = nx.spring_layout(G)  # Razporeditev vozlišč za boljšo vizualizacijo\n",
    "    plt.figure(figsize=(8, 6))\n",
    "    nx.draw(G, pos, with_labels=True, node_color='lightblue', edge_color='gray', node_size=500)\n",
    "    plt.title(title)\n",
    "    plt.show()"
   ]
  },
  {
   "cell_type": "markdown",
   "metadata": {},
   "source": [
    "Generiranje in risanje grafov za k = 3 in k = 4"
   ]
  },
  {
   "cell_type": "code",
   "execution_count": 21,
   "metadata": {},
   "outputs": [
    {
     "ename": "TypeError",
     "evalue": "'_AxesStack' object is not callable",
     "output_type": "error",
     "traceback": [
      "\u001b[1;31m---------------------------------------------------------------------------\u001b[0m",
      "\u001b[1;31mTypeError\u001b[0m                                 Traceback (most recent call last)",
      "Cell \u001b[1;32mIn[21], line 5\u001b[0m\n\u001b[0;32m      3\u001b[0m \u001b[38;5;28;01mfor\u001b[39;00m k \u001b[38;5;129;01min\u001b[39;00m k_vrednosti:\n\u001b[0;32m      4\u001b[0m     G \u001b[38;5;241m=\u001b[39m generate_5_0_graph(k)  \u001b[38;5;66;03m# Ustvari graf za dano k\u001b[39;00m\n\u001b[1;32m----> 5\u001b[0m     plot_graph(G, title\u001b[38;5;241m=\u001b[39m\u001b[38;5;124mf\u001b[39m\u001b[38;5;124m\"\u001b[39m\u001b[38;5;124m(5,0)-tip Fullerenski graf za k=\u001b[39m\u001b[38;5;132;01m{\u001b[39;00mk\u001b[38;5;132;01m}\u001b[39;00m\u001b[38;5;124m\"\u001b[39m)\n",
      "Cell \u001b[1;32mIn[20], line 8\u001b[0m, in \u001b[0;36mplot_graph\u001b[1;34m(G, title)\u001b[0m\n\u001b[0;32m      6\u001b[0m pos \u001b[38;5;241m=\u001b[39m nx\u001b[38;5;241m.\u001b[39mspring_layout(G)  \u001b[38;5;66;03m# Razporeditev vozlišč za boljšo vizualizacijo\u001b[39;00m\n\u001b[0;32m      7\u001b[0m plt\u001b[38;5;241m.\u001b[39mfigure(figsize\u001b[38;5;241m=\u001b[39m(\u001b[38;5;241m8\u001b[39m, \u001b[38;5;241m6\u001b[39m))\n\u001b[1;32m----> 8\u001b[0m nx\u001b[38;5;241m.\u001b[39mdraw(G, pos, with_labels\u001b[38;5;241m=\u001b[39m\u001b[38;5;28;01mTrue\u001b[39;00m, node_color\u001b[38;5;241m=\u001b[39m\u001b[38;5;124m'\u001b[39m\u001b[38;5;124mlightblue\u001b[39m\u001b[38;5;124m'\u001b[39m, edge_color\u001b[38;5;241m=\u001b[39m\u001b[38;5;124m'\u001b[39m\u001b[38;5;124mgray\u001b[39m\u001b[38;5;124m'\u001b[39m, node_size\u001b[38;5;241m=\u001b[39m\u001b[38;5;241m500\u001b[39m)\n\u001b[0;32m      9\u001b[0m plt\u001b[38;5;241m.\u001b[39mtitle(title)\n\u001b[0;32m     10\u001b[0m plt\u001b[38;5;241m.\u001b[39mshow()\n",
      "File \u001b[1;32mc:\\Users\\Hp\\anaconda3\\Lib\\site-packages\\networkx\\drawing\\nx_pylab.py:113\u001b[0m, in \u001b[0;36mdraw\u001b[1;34m(G, pos, ax, **kwds)\u001b[0m\n\u001b[0;32m    111\u001b[0m cf\u001b[38;5;241m.\u001b[39mset_facecolor(\u001b[38;5;124m\"\u001b[39m\u001b[38;5;124mw\u001b[39m\u001b[38;5;124m\"\u001b[39m)\n\u001b[0;32m    112\u001b[0m \u001b[38;5;28;01mif\u001b[39;00m ax \u001b[38;5;129;01mis\u001b[39;00m \u001b[38;5;28;01mNone\u001b[39;00m:\n\u001b[1;32m--> 113\u001b[0m     \u001b[38;5;28;01mif\u001b[39;00m cf\u001b[38;5;241m.\u001b[39m_axstack() \u001b[38;5;129;01mis\u001b[39;00m \u001b[38;5;28;01mNone\u001b[39;00m:\n\u001b[0;32m    114\u001b[0m         ax \u001b[38;5;241m=\u001b[39m cf\u001b[38;5;241m.\u001b[39madd_axes((\u001b[38;5;241m0\u001b[39m, \u001b[38;5;241m0\u001b[39m, \u001b[38;5;241m1\u001b[39m, \u001b[38;5;241m1\u001b[39m))\n\u001b[0;32m    115\u001b[0m     \u001b[38;5;28;01melse\u001b[39;00m:\n",
      "\u001b[1;31mTypeError\u001b[0m: '_AxesStack' object is not callable"
     ]
    },
    {
     "data": {
      "text/plain": [
       "<Figure size 800x600 with 0 Axes>"
      ]
     },
     "metadata": {},
     "output_type": "display_data"
    }
   ],
   "source": [
    "# Ustvari in nariši grafe za različne vrednosti k\n",
    "k_vrednosti = [3, 4, 5]  # Določi število orbit\n",
    "for k in k_vrednosti:\n",
    "    G = generate_5_0_graph(k)  # Ustvari graf za dano k\n",
    "    plot_graph(G, title=f\"(5,0)-tip Fullerenski graf za k={k}\")  # Nariši graf"
   ]
  },
  {
   "cell_type": "markdown",
   "metadata": {},
   "source": [
    "Preverjanje kode"
   ]
  },
  {
   "cell_type": "code",
   "execution_count": 11,
   "metadata": {},
   "outputs": [
    {
     "name": "stdout",
     "output_type": "stream",
     "text": [
      "Število oglišč: 30\n",
      "Število povezav: 52\n",
      "Ali je graf povezan? True\n"
     ]
    }
   ],
   "source": [
    "# Preverjanje osnovnih lastnosti grafa\n",
    "print(f\"Število oglišč: {G.number_of_nodes()}\")\n",
    "print(f\"Število povezav: {G.number_of_edges()}\")\n",
    "print(f\"Ali je graf povezan? {nx.is_connected(G)}\")"
   ]
  },
  {
   "cell_type": "code",
   "execution_count": 12,
   "metadata": {},
   "outputs": [
    {
     "name": "stdout",
     "output_type": "stream",
     "text": [
      "Orbita 0: Oglišča [0, 1, 2, 3, 4, 5, 6, 7, 8, 9]\n",
      "Orbita 1: Oglišča [10, 11, 12, 13, 14, 15, 16, 17, 18, 19]\n",
      "Orbita 2: Oglišča [20, 21, 22, 23, 24, 25, 26, 27, 28, 29]\n"
     ]
    }
   ],
   "source": [
    "# Preveri krožno strukturo v vsaki orbiti\n",
    "k = 3  # Vrednost k, ki si jo želiš preveriti\n",
    "for orbit in range(k):\n",
    "    base = orbit * 10\n",
    "    print(f\"Orbita {orbit}: Oglišča {list(range(base, base + 10))}\")\n",
    "    # Preveri krožne povezave\n",
    "    for i in range(10):\n",
    "        u, v = base + i, base + (i + 1) % 10\n",
    "        if not G.has_edge(u, v):\n",
    "            print(f\"Povezava manjkajoča: {u}-{v}\")"
   ]
  },
  {
   "cell_type": "code",
   "execution_count": 13,
   "metadata": {},
   "outputs": [
    {
     "data": {
      "image/png": "[encoded data removed]",
      "text/plain": [
       "<Figure size 640x480 with 1 Axes>"
      ]
     },
     "metadata": {},
     "output_type": "display_data"
    }
   ],
   "source": [
    "def draw_colored_graph(G, k):\n",
    "    \"\"\"\n",
    "    Nariše graf z označenimi začetnimi in končnimi vozlišči v rdeči barvi.\n",
    "    \"\"\"\n",
    "    pos = nx.spring_layout(G)  # Postavitev grafa\n",
    "    \n",
    "    # Vsa vozlišča pobarvamo modro\n",
    "    nx.draw_networkx_nodes(G, pos, node_color=\"lightblue\", node_size=500)\n",
    "    nx.draw_networkx_edges(G, pos, edge_color=\"black\")\n",
    "    nx.draw_networkx_labels(G, pos, font_color=\"black\")\n",
    "    \n",
    "    # Pobarvamo začetna vozlišča (prvi petkotnik) v rdečo\n",
    "    first_pentagon = list(range(5))\n",
    "    nx.draw_networkx_nodes(G, pos, nodelist=first_pentagon, node_color=\"red\", node_size=500)\n",
    "    \n",
    "    # Pobarvamo končna vozlišča (zadnji petkotnik) v rdečo\n",
    "    last_pentagon = list(range(10 * k - 5, 10 * k))\n",
    "    nx.draw_networkx_nodes(G, pos, nodelist=last_pentagon, node_color=\"red\", node_size=500)\n",
    "    \n",
    "    plt.title(f\"Vizualizacija grafa tipa (5,0) za k={k}\")\n",
    "    plt.show()\n",
    "\n",
    "# Testiraj s k=4\n",
    "k = 4\n",
    "G = generate_5_0_graph(k)\n",
    "draw_colored_graph(G, k)"
   ]
  },
  {
   "cell_type": "markdown",
   "metadata": {},
   "source": [
    "2. IZRAČUN RAZDALJ"
   ]
  },
  {
   "cell_type": "code",
   "execution_count": 14,
   "metadata": {},
   "outputs": [],
   "source": [
    "\n",
    "def izračunaj_vektorje_razdalj(G):\n",
    "    \"\"\"\n",
    "    Izračunaj vektorje razdalj za vsa vozlišča v grafu.\n",
    "\n",
    "    Parametri:\n",
    "    G (nx.Graph): Vhodni graf.\n",
    "\n",
    "    Vrne:\n",
    "    dict: Slovar, kjer so ključi vozlišča, vrednosti pa vektorji razdalj.\n",
    "    \"\"\"\n",
    "    vektorji_razdalj = {}\n",
    "\n",
    "    for vozlišče in G.nodes():\n",
    "        razdalje = nx.single_source_shortest_path_length(G, vozlišče)\n",
    "        max_razdalja = max(razdalje.values())\n",
    "        vektor = [0] * (max_razdalja + 1)\n",
    "        for razdalja in razdalje.values():\n",
    "            vektor[razdalja] += 1\n",
    "        vektorji_razdalj[vozlišče] = vektor\n",
    "\n",
    "    return vektorji_razdalj"
   ]
  },
  {
   "cell_type": "code",
   "execution_count": 15,
   "metadata": {},
   "outputs": [],
   "source": [
    "\n",
    "def preveri_enake_vektorje_razdalj(vektorji_razdalj):\n",
    "    \"\"\"\n",
    "    Preveri, ali imajo vsi vektorji razdalj v grafu enake vrednosti.\n",
    "\n",
    "    Parametri:\n",
    "    vektorji_razdalj (dict): Vektorji razdalj za vsa vozlišča.\n",
    "\n",
    "    Vrne:\n",
    "    bool: True, če so vsi vektorji razdalj enaki, sicer False.\n",
    "    \"\"\"\n",
    "    vektorji = list(vektorji_razdalj.values())\n",
    "    return all(v == vektorji[0] for v in vektorji)"
   ]
  },
  {
   "cell_type": "markdown",
   "metadata": {},
   "source": [
    "GRAFI"
   ]
  },
  {
   "cell_type": "code",
   "execution_count": 16,
   "metadata": {},
   "outputs": [
    {
     "name": "stdout",
     "output_type": "stream",
     "text": [
      "Vektorji razdalj za vzorčna vozlišča:\n",
      "Vozlišče 0: [1, 4, 8, 10, 10, 9, 6, 2]\n",
      "Vozlišče 1: [1, 3, 6, 8, 10, 10, 8, 4]\n",
      "Vozlišče 2: [1, 3, 5, 7, 9, 9, 8, 5, 3]\n",
      "Vozlišče 3: [1, 3, 6, 8, 10, 9, 7, 4, 2]\n",
      "Vozlišče 4: [1, 4, 8, 10, 10, 9, 6, 2]\n",
      "Vozlišče 5: [1, 3, 6, 10, 10, 10, 8, 2]\n",
      "Vozlišče 6: [1, 3, 5, 8, 10, 9, 8, 6]\n",
      "Vozlišče 7: [1, 3, 5, 7, 9, 9, 7, 6, 3]\n",
      "Vozlišče 8: [1, 3, 5, 8, 10, 9, 7, 5, 2]\n",
      "Vozlišče 9: [1, 3, 6, 10, 10, 9, 7, 4]\n",
      "Vsi vektorji razdalj so enaki: False\n"
     ]
    },
    {
     "ename": "TypeError",
     "evalue": "'_AxesStack' object is not callable",
     "output_type": "error",
     "traceback": [
      "\u001b[1;31m---------------------------------------------------------------------------\u001b[0m",
      "\u001b[1;31mTypeError\u001b[0m                                 Traceback (most recent call last)",
      "Cell \u001b[1;32mIn[16], line 22\u001b[0m\n\u001b[0;32m     20\u001b[0m plt\u001b[38;5;241m.\u001b[39mfigure(figsize\u001b[38;5;241m=\u001b[39m(\u001b[38;5;241m10\u001b[39m, \u001b[38;5;241m8\u001b[39m))\n\u001b[0;32m     21\u001b[0m pos \u001b[38;5;241m=\u001b[39m nx\u001b[38;5;241m.\u001b[39mspring_layout(G, seed\u001b[38;5;241m=\u001b[39m\u001b[38;5;241m42\u001b[39m)\n\u001b[1;32m---> 22\u001b[0m nx\u001b[38;5;241m.\u001b[39mdraw(G, pos, with_labels\u001b[38;5;241m=\u001b[39m\u001b[38;5;28;01mTrue\u001b[39;00m, node_size\u001b[38;5;241m=\u001b[39m\u001b[38;5;241m50\u001b[39m, node_color\u001b[38;5;241m=\u001b[39m\u001b[38;5;124m\"\u001b[39m\u001b[38;5;124mskyblue\u001b[39m\u001b[38;5;124m\"\u001b[39m)\n\u001b[0;32m     23\u001b[0m plt\u001b[38;5;241m.\u001b[39mshow()\n",
      "File \u001b[1;32mc:\\Users\\Hp\\anaconda3\\Lib\\site-packages\\networkx\\drawing\\nx_pylab.py:113\u001b[0m, in \u001b[0;36mdraw\u001b[1;34m(G, pos, ax, **kwds)\u001b[0m\n\u001b[0;32m    111\u001b[0m cf\u001b[38;5;241m.\u001b[39mset_facecolor(\u001b[38;5;124m\"\u001b[39m\u001b[38;5;124mw\u001b[39m\u001b[38;5;124m\"\u001b[39m)\n\u001b[0;32m    112\u001b[0m \u001b[38;5;28;01mif\u001b[39;00m ax \u001b[38;5;129;01mis\u001b[39;00m \u001b[38;5;28;01mNone\u001b[39;00m:\n\u001b[1;32m--> 113\u001b[0m     \u001b[38;5;28;01mif\u001b[39;00m cf\u001b[38;5;241m.\u001b[39m_axstack() \u001b[38;5;129;01mis\u001b[39;00m \u001b[38;5;28;01mNone\u001b[39;00m:\n\u001b[0;32m    114\u001b[0m         ax \u001b[38;5;241m=\u001b[39m cf\u001b[38;5;241m.\u001b[39madd_axes((\u001b[38;5;241m0\u001b[39m, \u001b[38;5;241m0\u001b[39m, \u001b[38;5;241m1\u001b[39m, \u001b[38;5;241m1\u001b[39m))\n\u001b[0;32m    115\u001b[0m     \u001b[38;5;28;01melse\u001b[39;00m:\n",
      "\u001b[1;31mTypeError\u001b[0m: '_AxesStack' object is not callable"
     ]
    },
    {
     "data": {
      "text/plain": [
       "<Figure size 1000x800 with 0 Axes>"
      ]
     },
     "metadata": {},
     "output_type": "display_data"
    }
   ],
   "source": [
    "# Parametri\n",
    "k = 5\n",
    "\n",
    "G = generate_5_0_graph(k)\n",
    "\n",
    "# Izračunaj vektorje razdalj\n",
    "vektorji_razdalj = izračunaj_vektorje_razdalj(G)\n",
    "\n",
    "# Preveri enake vektorje razdalj\n",
    "vektorji_enaki = preveri_enake_vektorje_razdalj(vektorji_razdalj)\n",
    "\n",
    "# Prikaži rezultate\n",
    "print(\"Vektorji razdalj za vzorčna vozlišča:\")\n",
    "for vozlišče, vektor in list(vektorji_razdalj.items())[:10]:\n",
    "    print(f\"Vozlišče {vozlišče}: {vektor}\")\n",
    "\n",
    "print(f\"Vsi vektorji razdalj so enaki: {vektorji_enaki}\")\n",
    "\n",
    "# Vizualiziraj graf\n",
    "plt.figure(figsize=(10, 8))\n",
    "pos = nx.spring_layout(G, seed=42)\n",
    "nx.draw(G, pos, with_labels=True, node_size=50, node_color=\"skyblue\")\n",
    "plt.show()"
   ]
  },
  {
   "cell_type": "code",
   "execution_count": 17,
   "metadata": {},
   "outputs": [
    {
     "name": "stdout",
     "output_type": "stream",
     "text": [
      "Vektorji razdalj za vzorčna vozlišča:\n",
      "Vozlišče 0: [1, 22, 27]\n",
      "Vozlišče 1: [1, 22, 27]\n",
      "Vozlišče 10: [1, 22, 27]\n",
      "Vozlišče 2: [1, 22, 27]\n",
      "Vozlišče 11: [1, 22, 27]\n",
      "Vozlišče 3: [1, 22, 27]\n",
      "Vozlišče 12: [1, 22, 27]\n",
      "Vozlišče 4: [1, 22, 27]\n",
      "Vozlišče 13: [1, 22, 27]\n",
      "Vozlišče 5: [1, 22, 27]\n",
      "Vsi vektorji razdalj so enaki: True\n"
     ]
    },
    {
     "ename": "TypeError",
     "evalue": "'_AxesStack' object is not callable",
     "output_type": "error",
     "traceback": [
      "\u001b[1;31m---------------------------------------------------------------------------\u001b[0m",
      "\u001b[1;31mTypeError\u001b[0m                                 Traceback (most recent call last)",
      "Cell \u001b[1;32mIn[17], line 63\u001b[0m\n\u001b[0;32m     61\u001b[0m plt\u001b[38;5;241m.\u001b[39mfigure(figsize\u001b[38;5;241m=\u001b[39m(\u001b[38;5;241m10\u001b[39m, \u001b[38;5;241m8\u001b[39m))\n\u001b[0;32m     62\u001b[0m pos \u001b[38;5;241m=\u001b[39m nx\u001b[38;5;241m.\u001b[39mspring_layout(G, seed\u001b[38;5;241m=\u001b[39m\u001b[38;5;241m42\u001b[39m)\n\u001b[1;32m---> 63\u001b[0m nx\u001b[38;5;241m.\u001b[39mdraw(G, pos, with_labels\u001b[38;5;241m=\u001b[39m\u001b[38;5;28;01mTrue\u001b[39;00m, node_size\u001b[38;5;241m=\u001b[39m\u001b[38;5;241m50\u001b[39m, node_color\u001b[38;5;241m=\u001b[39m\u001b[38;5;124m\"\u001b[39m\u001b[38;5;124mskyblue\u001b[39m\u001b[38;5;124m\"\u001b[39m)\n\u001b[0;32m     64\u001b[0m plt\u001b[38;5;241m.\u001b[39mtitle(\u001b[38;5;124m\"\u001b[39m\u001b[38;5;124mPopolnoma transitiven graf z enakimi vektorji razdalj\u001b[39m\u001b[38;5;124m\"\u001b[39m)\n\u001b[0;32m     65\u001b[0m plt\u001b[38;5;241m.\u001b[39mshow()\n",
      "File \u001b[1;32mc:\\Users\\Hp\\anaconda3\\Lib\\site-packages\\networkx\\drawing\\nx_pylab.py:113\u001b[0m, in \u001b[0;36mdraw\u001b[1;34m(G, pos, ax, **kwds)\u001b[0m\n\u001b[0;32m    111\u001b[0m cf\u001b[38;5;241m.\u001b[39mset_facecolor(\u001b[38;5;124m\"\u001b[39m\u001b[38;5;124mw\u001b[39m\u001b[38;5;124m\"\u001b[39m)\n\u001b[0;32m    112\u001b[0m \u001b[38;5;28;01mif\u001b[39;00m ax \u001b[38;5;129;01mis\u001b[39;00m \u001b[38;5;28;01mNone\u001b[39;00m:\n\u001b[1;32m--> 113\u001b[0m     \u001b[38;5;28;01mif\u001b[39;00m cf\u001b[38;5;241m.\u001b[39m_axstack() \u001b[38;5;129;01mis\u001b[39;00m \u001b[38;5;28;01mNone\u001b[39;00m:\n\u001b[0;32m    114\u001b[0m         ax \u001b[38;5;241m=\u001b[39m cf\u001b[38;5;241m.\u001b[39madd_axes((\u001b[38;5;241m0\u001b[39m, \u001b[38;5;241m0\u001b[39m, \u001b[38;5;241m1\u001b[39m, \u001b[38;5;241m1\u001b[39m))\n\u001b[0;32m    115\u001b[0m     \u001b[38;5;28;01melse\u001b[39;00m:\n",
      "\u001b[1;31mTypeError\u001b[0m: '_AxesStack' object is not callable"
     ]
    },
    {
     "data": {
      "text/plain": [
       "<Figure size 1000x800 with 0 Axes>"
      ]
     },
     "metadata": {},
     "output_type": "display_data"
    }
   ],
   "source": [
    "def ustvari_popolnoma_transitiven_graf(k):\n",
    "    \"\"\"\n",
    "    Ustvari popolnoma transitive graf, kjer imajo vsa vozlišča enake vektorje razdalj.\n",
    "\n",
    "    Parametri:\n",
    "    k (int): Število slojev strukture grafa.\n",
    "\n",
    "    Vrne:\n",
    "    nx.Graph: Graf, kjer imajo vsa vozlišča enake vektorje razdalj.\n",
    "    \"\"\"\n",
    "    G = nx.Graph()\n",
    "\n",
    "    # Ustvari k slojev vozlišč\n",
    "    for sloj in range(k):\n",
    "        for i in range(10):\n",
    "            trenutno_vozlišče = sloj * 10 + i\n",
    "            G.add_node(trenutno_vozlišče)\n",
    "\n",
    "            # Poveži vozlišča krožno znotraj istega sloja\n",
    "            G.add_edge(trenutno_vozlišče, sloj * 10 + (i + 1) % 10)\n",
    "\n",
    "            # Poveži vozlišča z ustreznimi položaji v naslednjem sloju\n",
    "            if sloj < k - 1:\n",
    "                G.add_edge(trenutno_vozlišče, (sloj + 1) * 10 + i)\n",
    "\n",
    "    # Dodaj povezave med vsemi vozlišči v sosednjih slojih za popolno transitivnost\n",
    "    for sloj in range(k - 1):\n",
    "        for i in range(10):\n",
    "            for j in range(10):\n",
    "                G.add_edge(sloj * 10 + i, (sloj + 1) * 10 + j)\n",
    "\n",
    "    # Zapri strukturo tako, da povežeš zadnji sloj s prvim\n",
    "    for i in range(10):\n",
    "        for j in range(10):\n",
    "            G.add_edge(i, (k - 1) * 10 + j)\n",
    "\n",
    "    return G\n",
    "\n",
    "\n",
    "\n",
    "# Parametri\n",
    "k = 5\n",
    "\n",
    "# Ustvari popolnoma transitiven graf\n",
    "G = ustvari_popolnoma_transitiven_graf(k)\n",
    "\n",
    "# Izračunaj vektorje razdalj\n",
    "vektorji_razdalj = izračunaj_vektorje_razdalj(G)\n",
    "\n",
    "# Preveri enake vektorje razdalj\n",
    "vektorji_enaki = preveri_enake_vektorje_razdalj(vektorji_razdalj)\n",
    "\n",
    "# Prikaži rezultate\n",
    "print(\"Vektorji razdalj za vzorčna vozlišča:\")\n",
    "for vozlišče, vektor in list(vektorji_razdalj.items())[:10]:\n",
    "    print(f\"Vozlišče {vozlišče}: {vektor}\")\n",
    "\n",
    "print(f\"Vsi vektorji razdalj so enaki: {vektorji_enaki}\")\n",
    "\n",
    "# Vizualiziraj graf\n",
    "plt.figure(figsize=(10, 8))\n",
    "pos = nx.spring_layout(G, seed=42)\n",
    "nx.draw(G, pos, with_labels=True, node_size=50, node_color=\"skyblue\")\n",
    "plt.title(\"Popolnoma transitiven graf z enakimi vektorji razdalj\")\n",
    "plt.show()"
   ]
  },
  {
   "cell_type": "code",
   "execution_count": 18,
   "metadata": {},
   "outputs": [
    {
     "name": "stdout",
     "output_type": "stream",
     "text": [
      "Vektorji razdalj za vzorčna vozlišča:\n",
      "Vozlišče 0: [1, 4, 8, 12, 16, 9]\n",
      "Vozlišče 1: [1, 4, 8, 12, 16, 9]\n",
      "Vozlišče 12: [1, 4, 8, 12, 16, 9]\n",
      "Vozlišče 2: [1, 4, 8, 12, 16, 9]\n",
      "Vozlišče 13: [1, 4, 8, 12, 16, 9]\n",
      "Vozlišče 3: [1, 4, 8, 12, 16, 9]\n",
      "Vozlišče 14: [1, 4, 8, 12, 16, 9]\n",
      "Vozlišče 4: [1, 4, 8, 12, 16, 9]\n",
      "Vozlišče 15: [1, 4, 8, 12, 16, 9]\n",
      "Vozlišče 5: [1, 4, 8, 12, 16, 9]\n",
      "Vsi vektorji razdalj so enaki: True\n"
     ]
    },
    {
     "ename": "TypeError",
     "evalue": "'_AxesStack' object is not callable",
     "output_type": "error",
     "traceback": [
      "\u001b[1;31m---------------------------------------------------------------------------\u001b[0m",
      "\u001b[1;31mTypeError\u001b[0m                                 Traceback (most recent call last)",
      "Cell \u001b[1;32mIn[18], line 54\u001b[0m\n\u001b[0;32m     52\u001b[0m plt\u001b[38;5;241m.\u001b[39mfigure(figsize\u001b[38;5;241m=\u001b[39m(\u001b[38;5;241m10\u001b[39m, \u001b[38;5;241m8\u001b[39m))\n\u001b[0;32m     53\u001b[0m pos \u001b[38;5;241m=\u001b[39m nx\u001b[38;5;241m.\u001b[39mspring_layout(G, seed\u001b[38;5;241m=\u001b[39m\u001b[38;5;241m42\u001b[39m)\n\u001b[1;32m---> 54\u001b[0m nx\u001b[38;5;241m.\u001b[39mdraw(G, pos, with_labels\u001b[38;5;241m=\u001b[39m\u001b[38;5;28;01mTrue\u001b[39;00m, node_size\u001b[38;5;241m=\u001b[39m\u001b[38;5;241m50\u001b[39m, node_color\u001b[38;5;241m=\u001b[39m\u001b[38;5;124m\"\u001b[39m\u001b[38;5;124mskyblue\u001b[39m\u001b[38;5;124m\"\u001b[39m)\n\u001b[0;32m     55\u001b[0m plt\u001b[38;5;241m.\u001b[39mtitle(\u001b[38;5;124m\"\u001b[39m\u001b[38;5;124mSimetričen graf z enakimi vektorji razdalj\u001b[39m\u001b[38;5;124m\"\u001b[39m)\n\u001b[0;32m     56\u001b[0m plt\u001b[38;5;241m.\u001b[39mshow()\n",
      "File \u001b[1;32mc:\\Users\\Hp\\anaconda3\\Lib\\site-packages\\networkx\\drawing\\nx_pylab.py:113\u001b[0m, in \u001b[0;36mdraw\u001b[1;34m(G, pos, ax, **kwds)\u001b[0m\n\u001b[0;32m    111\u001b[0m cf\u001b[38;5;241m.\u001b[39mset_facecolor(\u001b[38;5;124m\"\u001b[39m\u001b[38;5;124mw\u001b[39m\u001b[38;5;124m\"\u001b[39m)\n\u001b[0;32m    112\u001b[0m \u001b[38;5;28;01mif\u001b[39;00m ax \u001b[38;5;129;01mis\u001b[39;00m \u001b[38;5;28;01mNone\u001b[39;00m:\n\u001b[1;32m--> 113\u001b[0m     \u001b[38;5;28;01mif\u001b[39;00m cf\u001b[38;5;241m.\u001b[39m_axstack() \u001b[38;5;129;01mis\u001b[39;00m \u001b[38;5;28;01mNone\u001b[39;00m:\n\u001b[0;32m    114\u001b[0m         ax \u001b[38;5;241m=\u001b[39m cf\u001b[38;5;241m.\u001b[39madd_axes((\u001b[38;5;241m0\u001b[39m, \u001b[38;5;241m0\u001b[39m, \u001b[38;5;241m1\u001b[39m, \u001b[38;5;241m1\u001b[39m))\n\u001b[0;32m    115\u001b[0m     \u001b[38;5;28;01melse\u001b[39;00m:\n",
      "\u001b[1;31mTypeError\u001b[0m: '_AxesStack' object is not callable"
     ]
    },
    {
     "data": {
      "text/plain": [
       "<Figure size 1000x800 with 0 Axes>"
      ]
     },
     "metadata": {},
     "output_type": "display_data"
    }
   ],
   "source": [
    "def ustvari_simetričen_graf(k):\n",
    "    \"\"\"\n",
    "    Ustvari simetričen graf z rotacijsko simetrijo, kjer imajo vsa vozlišča enake vektorje razdalj.\n",
    "\n",
    "    Parametri:\n",
    "    k (int): Število slojev strukture grafa.\n",
    "\n",
    "    Vrne:\n",
    "    nx.Graph: Graf, kjer imajo vsa vozlišča enake vektorje razdalj.\n",
    "    \"\"\"\n",
    "    G = nx.Graph()\n",
    "\n",
    "    # Ustvari k slojev vozlišč\n",
    "    for sloj in range(k):\n",
    "        for i in range(10):\n",
    "            trenutno_vozlišče = sloj * 10 + i\n",
    "            G.add_node(trenutno_vozlišče)\n",
    "\n",
    "            # Poveži vozlišča krožno znotraj istega sloja\n",
    "            G.add_edge(trenutno_vozlišče, sloj * 10 + (i + 1) % 10)\n",
    "\n",
    "            # Poveži vozlišča z rotacijsko simetrijo med sosednjimi sloji\n",
    "            if sloj < k - 1:\n",
    "                G.add_edge(trenutno_vozlišče, (sloj + 1) * 10 + (i + 2) % 10)\n",
    "\n",
    "    # Zapri strukturo tako, da povežeš zadnji sloj s prvim z rotacijsko simetrijo\n",
    "    for i in range(10):\n",
    "        G.add_edge(i, (k - 1) * 10 + (i + 2) % 10)\n",
    "\n",
    "    return G\n",
    "\n",
    "# Parametri\n",
    "k = 5\n",
    "\n",
    "# Ustvari simetričen graf\n",
    "G = ustvari_simetričen_graf(k)\n",
    "\n",
    "# Izračunaj vektorje razdalj\n",
    "vektorji_razdalj = izračunaj_vektorje_razdalj(G)\n",
    "\n",
    "# Preveri enake vektorje razdalj\n",
    "vektorji_enaki = preveri_enake_vektorje_razdalj(vektorji_razdalj)\n",
    "\n",
    "# Prikaži rezultate\n",
    "print(\"Vektorji razdalj za vzorčna vozlišča:\")\n",
    "for vozlišče, vektor in list(vektorji_razdalj.items())[:10]:\n",
    "    print(f\"Vozlišče {vozlišče}: {vektor}\")\n",
    "\n",
    "print(f\"Vsi vektorji razdalj so enaki: {vektorji_enaki}\")\n",
    "\n",
    "# Vizualiziraj graf\n",
    "plt.figure(figsize=(10, 8))\n",
    "pos = nx.spring_layout(G, seed=42)\n",
    "nx.draw(G, pos, with_labels=True, node_size=50, node_color=\"skyblue\")\n",
    "plt.title(\"Simetričen graf z enakimi vektorji razdalj\")\n",
    "plt.show()"
   ]
  }
 ],
 "metadata": {
  "kernelspec": {
   "display_name": "base",
   "language": "python",
   "name": "python3"
  },
  "language_info": {
   "codemirror_mode": {
    "name": "ipython",
    "version": 3
   },
   "file_extension": ".py",
   "mimetype": "text/x-python",
   "name": "python",
   "nbconvert_exporter": "python",
   "pygments_lexer": "ipython3",
   "version": "3.11.3"
  }
 },
 "nbformat": 4,
 "nbformat_minor": 2
}
